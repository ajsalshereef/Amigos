{
  "nbformat": 4,
  "nbformat_minor": 0,
  "metadata": {
    "colab": {
      "name": "Copy of Corona(SIR).ipynb",
      "provenance": [],
      "collapsed_sections": []
    },
    "kernelspec": {
      "name": "python3",
      "display_name": "Python 3"
    }
  },
  "cells": [
    {
      "cell_type": "code",
      "metadata": {
        "id": "ib0_obSMflJp",
        "colab_type": "code",
        "colab": {}
      },
      "source": [
        "#importing the necessary libraries\n",
        "import numpy as np\n",
        "from scipy.integrate import odeint\n",
        "import matplotlib.pyplot as plt\n",
        "import seaborn as sns\n",
        "import pandas as pd\n",
        "import datetime\n",
        "from datetime import timedelta\n",
        "from scipy.optimize import fsolve # Solving non-linear system of equation\n",
        "import math\n",
        "sns.set()"
      ],
      "execution_count": null,
      "outputs": []
    },
    {
      "cell_type": "code",
      "metadata": {
        "id": "yHY1sqeNl2kr",
        "colab_type": "code",
        "colab": {}
      },
      "source": [
        "def sir_plot(ret,t1=np.arange(0,200)):\n",
        "  S,I,R = ret.T\n",
        "  fig = plt.figure(facecolor='w')\n",
        "  ax = fig.add_subplot(111, axisbelow=True)\n",
        "  ax.plot(t1, S, 'b', alpha=0.5, lw=2, label='Susceptible')\n",
        "  ax.plot(t1, I, 'r', alpha=0.5, lw=2, label='Infected')\n",
        "  ax.plot(t1, R, 'g', alpha=0.5, lw=2, label='Recovered with immunity')\n",
        "  ax.set_xlabel('days')\n",
        "  ax.set_ylabel('Number')\n",
        "  ax.yaxis.set_tick_params(length=0)\n",
        "  ax.xaxis.set_tick_params(length=0)\n",
        "  ax.grid(b=True, which='major', c='w', lw=2, ls='-')\n",
        "  legend = ax.legend()\n",
        "  legend.get_frame().set_alpha(0.5)\n",
        "  for spine in ('top', 'right', 'bottom', 'left'):\n",
        "      ax.spines[spine].set_visible(False)\n",
        "  #plt.show()\n",
        "  return(plt)\n",
        "  "
      ],
      "execution_count": null,
      "outputs": []
    },
    {
      "cell_type": "code",
      "metadata": {
        "id": "oZhvf0Urd90X",
        "colab_type": "code",
        "colab": {}
      },
      "source": [
        "def actual_pred_plot(ret,actual):\n",
        "\n",
        "  S,I,R =ret.T\n",
        "\n",
        "  t = np.arange(len(actual))\n",
        "  fig = plt.figure(facecolor='w')\n",
        "  ax = fig.add_subplot(111, axisbelow=True)\n",
        "  ax.plot(t, I[0:len(t)], 'r', alpha=0.5, lw=2, label='Infected(predicted)')\n",
        "\n",
        "  ax.plot(t, actual, 'y', alpha=0.5, lw=2, label='Infected(actual)')\n",
        "\n",
        "  ax.set_xlabel('days')\n",
        "  ax.set_ylabel('Number of Infected')\n",
        "  ax.yaxis.set_tick_params(length=0)\n",
        "  ax.xaxis.set_tick_params(length=0)\n",
        "  ax.grid(b=True, which='major', c='w', lw=2, ls='-')\n",
        "  legend = ax.legend()\n",
        "  legend.get_frame().set_alpha(0.5)\n",
        "  for spine in ('top', 'right', 'bottom', 'left'):\n",
        "    ax.spines[spine].set_visible(False)\n",
        "  return(plt)\n"
      ],
      "execution_count": null,
      "outputs": []
    },
    {
      "cell_type": "code",
      "metadata": {
        "id": "fi4rN9IK9Itu",
        "colab_type": "code",
        "colab": {}
      },
      "source": [
        "def deriv(y, t, N, beta, gamma):\n",
        "    S, I, R = y\n",
        "    dSdt =((-beta/N * S * I))\n",
        "    dIdt = (beta/N * S * I)  - gamma * I\n",
        "    dRdt = gamma * I\n",
        "    return dSdt, dIdt, dRdt"
      ],
      "execution_count": null,
      "outputs": []
    },
    {
      "cell_type": "code",
      "metadata": {
        "id": "5_SGy17W3pg8",
        "colab_type": "code",
        "colab": {}
      },
      "source": [
        "class model:\n",
        "    def __init__(self,df,p,R0,t=np.arange(0,200),f=1.00,gamma=1/14):\n",
        "\n",
        "      self.df = df\n",
        "      self.p = p\n",
        "      self.R0 = R0\n",
        "      self.t = t\n",
        "      self.f = f\n",
        "      self.gamma = gamma\n",
        "\n",
        "    def SIR(self):\n",
        "\n",
        "        self.df.columns = ['date','cured','death','infected']\n",
        "        i0 = self.df['infected'].iloc[0]\n",
        "        r0 = (self.df['cured'].iloc[0] + self.df['death'].iloc[0])\n",
        "        s0 = self.p * self.f - i0 - r0\n",
        "        beta = self.R0 * self.gamma\n",
        "        y0 = s0, i0, r0\n",
        "\n",
        "        ret = odeint(deriv, y0, self.t, args=(self.p*self.f, beta,self.gamma))\n",
        "        #output_plot = sir_plot(ret,self.t)\n",
        "        #actual_pred_plot(ret,self.df.infected.values)\n",
        "        return(ret)\n"
      ],
      "execution_count": null,
      "outputs": []
    },
    {
      "cell_type": "code",
      "metadata": {
        "id": "jHKBVQ7-UWtd",
        "colab_type": "code",
        "colab": {}
      },
      "source": [
        "def state_model(path='/content/'):\n",
        "\n",
        "  df = pd.read_csv(path+'covid_19_india.csv')\n",
        "  df = df[df['State/UnionTerritory']!='Unassigned']\n",
        "  df = df.dropna(subset=['State/UnionTerritory'])\n",
        "  df_population = pd.read_csv(path+'population_india_census2011.csv')\n",
        "  df = df[['Date','State/UnionTerritory','Cured','Deaths','Confirmed']]\n",
        "  df['Confirmed'] = df['Confirmed']-df['Cured']-df['Deaths']\n",
        "  df['Date'] = pd.to_datetime(df['Date'],format='%d/%m/%y')\n",
        "  df = df[df['Date'] >=pd.datetime(2020,3,1)]\n",
        "\n",
        "  df_model = pd.DataFrame()\n",
        "\n",
        "  df_final = pd.DataFrame()\n",
        "\n",
        "  for state in df['State/UnionTerritory'].unique():\n",
        "  \n",
        "    df_state = df[df['State/UnionTerritory']==state]\n",
        "    if df_state['Confirmed'].max() <=30:\n",
        "      continue\n",
        "    population = df_population[df_population['State / Union Territory']==state]['Population'].iloc[0]\n",
        "    df_state_R0 = pd.DataFrame()\n",
        "    R0_array = np.linspace(0,20,num=20000)\n",
        "    for R0 in R0_array.flatten():\n",
        "\n",
        "\n",
        "      STATE = model(df_state.drop(['State/UnionTerritory'],axis=1),population,R0)\n",
        "      ret = STATE.SIR()\n",
        "      S,I,R = ret.T\n",
        "      actual =  df_state['Confirmed'].values\n",
        "      train_pct_index = int(0.8 * len(actual)) #fixing trainin\n",
        "      #train_pct_index = df_state[df_state['Date']<= pd.datetime(2020,3,23)]\n",
        "      mse = (np.square(I[:train_pct_index] - actual[:train_pct_index])).mean(axis=None)**(0.5)\n",
        "      df_temp = pd.DataFrame([[state,R0,mse]],columns=['State','R0','mse'])\n",
        "      df_state_R0 = df_state_R0.append(df_temp)\n",
        "    \n",
        "    rmse_min = df_state_R0.mse.min()\n",
        "\n",
        "    R0_min = df_state_R0[df_state_R0['mse']==df_state_R0.mse.min()]['R0'].iloc[0]\n",
        "    STATE = model(df_state.drop(['State/UnionTerritory'],axis=1),population,R0_min)\n",
        "    ret = STATE.SIR()\n",
        "    S,I,R = ret.T\n",
        "    df_sir = pd.DataFrame({'S':S,'I':I,'R':R})\n",
        "    df_sir.to_excel(path+state+'(SIR_values).xlsx',index=False)\n",
        "    plt = actual_pred_plot(ret,df_state['Confirmed'].values)\n",
        "    plt.savefig(path+state+'(Actual vs Prediction).png',dpi=100)\n",
        "    plt1 = sir_plot(ret)\n",
        "    plt1.savefig(path+state+'(SIR).png',dpi=100)\n",
        "    rmse_test = (np.square(I[train_pct_index:len(actual)] - actual[train_pct_index:])).mean(axis=None)**(0.5)\n",
        "    df_result = pd.DataFrame([[state,R0_min,rmse_min,rmse_test]],columns=['State','R0','RMSE(train)','RMSE(test)'])\n",
        "    df_final = df_final.append(df_result)\n",
        "\n",
        "  df_final.to_excel(path+\"statewise_R0.xlsx\",index=False)\n"
      ],
      "execution_count": null,
      "outputs": []
    },
    {
      "cell_type": "code",
      "metadata": {
        "id": "DsnzFnCc5Yrg",
        "colab_type": "code",
        "colab": {}
      },
      "source": [
        "\n",
        "def main():\n",
        "  path = '/content/' #Enter the project path here\n",
        "  state_model(path)\n",
        "\n"
      ],
      "execution_count": null,
      "outputs": []
    },
    {
      "cell_type": "code",
      "metadata": {
        "id": "BOHMkqf5RV8I",
        "colab_type": "code",
        "colab": {
          "base_uri": "https://localhost:8080/",
          "height": 71
        },
        "outputId": "65d8b637-9edb-4b8d-e1ea-2c6f938e31c4"
      },
      "source": [
        "if __name__ == \"__main__\": \n",
        "    main()"
      ],
      "execution_count": null,
      "outputs": [
        {
          "output_type": "stream",
          "text": [
            "/usr/local/lib/python3.6/dist-packages/ipykernel_launcher.py:10: FutureWarning: The pandas.datetime class is deprecated and will be removed from pandas in a future version. Import from datetime instead.\n",
            "  # Remove the CWD from sys.path while we load stuff.\n"
          ],
          "name": "stderr"
        }
      ]
    }
  ]
}